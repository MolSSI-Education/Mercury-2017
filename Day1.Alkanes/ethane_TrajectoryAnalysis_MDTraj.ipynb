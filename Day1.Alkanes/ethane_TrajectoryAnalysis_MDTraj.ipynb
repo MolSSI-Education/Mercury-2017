{
 "cells": [
  {
   "cell_type": "code",
   "execution_count": null,
   "metadata": {
    "collapsed": true
   },
   "outputs": [],
   "source": [
    "import mdtraj as md\n",
    "import numpy as np\n",
    "import matplotlib.pyplot as plt\n",
    "%matplotlib inline"
   ]
  },
  {
   "cell_type": "markdown",
   "metadata": {},
   "source": [
    "## Read in the MD trajectory\n",
    "\n",
    "Below we read in the production simulation trajectory using the topology available in the PDB file of the starting structure."
   ]
  },
  {
   "cell_type": "code",
   "execution_count": null,
   "metadata": {},
   "outputs": [],
   "source": [
    "traj = md.load('ethane_sim.dcd', top='ethane.pdb')\n",
    "atoms, bonds = traj.topology.to_dataframe()\n",
    "atoms"
   ]
  },
  {
   "cell_type": "markdown",
   "metadata": {
    "collapsed": true
   },
   "source": [
    "## Analyzing the H-C-C-H torsion"
   ]
  },
  {
   "cell_type": "code",
   "execution_count": null,
   "metadata": {
    "collapsed": true
   },
   "outputs": [],
   "source": [
    "phi_indices = [1, 0, 4, 5] # atoms to define the torsion angle\n",
    "phi = md.compute_dihedrals(traj, [phi_indices])\n",
    "\n",
    "phicounts, binedges, otherstuff = plt.hist(phi, bins=90) # create a histogram with 90 bins\n",
    "plt.title('H-C-C-H torsion angle')\n",
    "plt.xlabel(r'$\\phi$ (rad)')\n",
    "plt.ylabel('Counts')\n",
    "plt.show()"
   ]
  },
  {
   "cell_type": "code",
   "execution_count": null,
   "metadata": {
    "collapsed": true
   },
   "outputs": [],
   "source": [
    "kB = 8.31446/1000 # Boltzmann constant in kcal/mol\n",
    "Temp = 323.15 # simulation temperature\n",
    "phicounts[phicounts==0] = 0.1 # get rid of any bins with 0 counts/infinite energy\n",
    "pmf = -kB*Temp*np.log(phicounts)\n",
    "pmf = pmf - np.min(pmf) # subtract off minimum value so that energies start from 0\n",
    "\n",
    "bincenters = (binedges[1:] + binedges[:-1])/2 # compute centers of histogram bins\n",
    "\n",
    "plt.plot(bincenters, pmf)\n",
    "plt.title('H-C-C-H torsion pmf')\n",
    "plt.xlabel(r'$\\phi$ (rad)')\n",
    "plt.ylabel('Relative free energy (kJ/mol)')\n",
    "plt.show()"
   ]
  },
  {
   "cell_type": "markdown",
   "metadata": {},
   "source": [
    "The pmf looks a bit jagged (mainly due to our finite sampling), so let's try to smooth it out using the LOWESS (locally weighted scatterplot smoothing) algorithm:"
   ]
  },
  {
   "cell_type": "code",
   "execution_count": null,
   "metadata": {
    "collapsed": true
   },
   "outputs": [],
   "source": [
    "import statsmodels.api as sm\n",
    "\n",
    "pmf_smoothed = sm.nonparametric.lowess(pmf, bincenters, frac=0.1)\n",
    "plt.plot(pmf_smoothed[:,0], pmf_smoothed[:,1])\n",
    "plt.title('H-C-C-H torsion pmf')\n",
    "plt.xlabel(r'$\\phi$ (rad)')\n",
    "plt.ylabel('Relative free energy (kJ/mol)')\n",
    "plt.show()"
   ]
  },
  {
   "cell_type": "markdown",
   "metadata": {},
   "source": [
    "## Analyzing the C-C bond length"
   ]
  },
  {
   "cell_type": "code",
   "execution_count": null,
   "metadata": {
    "collapsed": true
   },
   "outputs": [],
   "source": [
    "bond_indices = [0, 4] # atoms to define the bond length\n",
    "bondlength = md.compute_distances(traj, [bond_indices])\n",
    "\n",
    "bondcounts, binedges, otherstuff = plt.hist(bondlength, bins=100)\n",
    "plt.title('C-C bond length')\n",
    "plt.xlabel('Bond length (nm)')\n",
    "plt.ylabel('Counts')\n",
    "plt.show()"
   ]
  },
  {
   "cell_type": "code",
   "execution_count": null,
   "metadata": {
    "collapsed": true
   },
   "outputs": [],
   "source": [
    "bondcounts[bondcounts==0] = 0.1\n",
    "pmf = -kB*Temp*np.log(bondcounts)\n",
    "pmf = pmf - np.min(pmf)\n",
    "\n",
    "bincenters = (binedges[1:] + binedges[:-1])/2\n",
    "\n",
    "pmf_smoothed = sm.nonparametric.lowess(pmf, bincenters, frac=0.1)\n",
    "pmf_s = pmf_smoothed[:,1] - np.min(pmf_smoothed[:,1])\n",
    "\n",
    "plt.plot(bincenters, pmf_s)\n",
    "plt.xlabel('Bond length (nm)')\n",
    "plt.ylabel('Relative free energy (kJ/mol)')\n",
    "plt.show()"
   ]
  },
  {
   "cell_type": "code",
   "execution_count": null,
   "metadata": {
    "collapsed": true
   },
   "outputs": [],
   "source": []
  }
 ],
 "metadata": {
  "kernelspec": {
   "display_name": "Python 3",
   "language": "python",
   "name": "python3"
  },
  "language_info": {
   "codemirror_mode": {
    "name": "ipython",
    "version": 3
   },
   "file_extension": ".py",
   "mimetype": "text/x-python",
   "name": "python",
   "nbconvert_exporter": "python",
   "pygments_lexer": "ipython3",
   "version": "3.6.1"
  }
 },
 "nbformat": 4,
 "nbformat_minor": 2
}
