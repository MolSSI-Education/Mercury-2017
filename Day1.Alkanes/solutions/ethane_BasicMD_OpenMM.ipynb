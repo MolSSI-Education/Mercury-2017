{
 "cells": [
  {
   "cell_type": "code",
   "execution_count": 1,
   "metadata": {
    "collapsed": true
   },
   "outputs": [],
   "source": [
    "from simtk.openmm import app\n",
    "import simtk.openmm as mm\n",
    "from simtk import unit\n",
    "from sys import stdout\n",
    "\n",
    "# what follows is from the OpenMM script builder\n",
    "# with some minor modifications..."
   ]
  },
  {
   "cell_type": "markdown",
   "metadata": {},
   "source": [
    "## Simulation setup"
   ]
  },
  {
   "cell_type": "code",
   "execution_count": 2,
   "metadata": {
    "collapsed": true
   },
   "outputs": [],
   "source": [
    "# read in a starting structure for ethane and the\n",
    "# corresponding force field file\n",
    "pdb = app.PDBFile('ethane.pdb')\n",
    "forcefield = app.ForceField('ethane.gaff2.xml')\n",
    "\n",
    "# setup system by taking topology from pdb file;\n",
    "# run gas phase simulation with 2 fs time step (using SHAKE)\n",
    "# at 323.15 K using a Langevin thermostat (integrator) with\n",
    "# coupling constant of 5.0 ps^-1\n",
    "system = forcefield.createSystem(pdb.topology, nonbondedMethod=app.NoCutoff, \n",
    "                                 constraints=app.HBonds)\n",
    "integrator = mm.LangevinIntegrator(323.15*unit.kelvin, 5.0/unit.picoseconds, \n",
    "                                   2.0*unit.femtoseconds)\n",
    "integrator.setConstraintTolerance(0.00001)\n",
    "\n",
    "platform = mm.Platform.getPlatformByName('CPU')\n",
    "simulation = app.Simulation(pdb.topology, system, integrator, platform)\n",
    "simulation.context.setPositions(pdb.positions)"
   ]
  },
  {
   "cell_type": "markdown",
   "metadata": {},
   "source": [
    "## Energy minimization\n",
    "\n",
    "This reduces the potential energy of the system before beginning dynamics. This eliminates \"bad\" (i.e., overly close) contacts and generally leads to more stable simulation behavior."
   ]
  },
  {
   "cell_type": "code",
   "execution_count": 3,
   "metadata": {},
   "outputs": [
    {
     "name": "stdout",
     "output_type": "stream",
     "text": [
      "Minimizing...\n",
      "Potential energy before minimization is 4.4678182248106335 kJ/mol\n",
      "Potential energy after minimization is 4.390208155300384 kJ/mol\n"
     ]
    }
   ],
   "source": [
    "print('Minimizing...')\n",
    "\n",
    "st = simulation.context.getState(getPositions=True,getEnergy=True)\n",
    "print(\"Potential energy before minimization is %s\" % st.getPotentialEnergy())\n",
    "\n",
    "simulation.minimizeEnergy(maxIterations=100)\n",
    "\n",
    "st = simulation.context.getState(getPositions=True,getEnergy=True)\n",
    "print(\"Potential energy after minimization is %s\" % st.getPotentialEnergy())"
   ]
  },
  {
   "cell_type": "markdown",
   "metadata": {},
   "source": [
    "## Equilibration\n",
    "\n",
    "We will run a (very) short equilibration simulation to bring the molecule up to our desired temperature.  If this were a periodic system, we would also aim to bring the density/volume to equilibrium at the desired pressure."
   ]
  },
  {
   "cell_type": "code",
   "execution_count": 4,
   "metadata": {},
   "outputs": [
    {
     "name": "stdout",
     "output_type": "stream",
     "text": [
      "Equilibrating...\n",
      "#\"Step\",\"Potential Energy (kJ/mole)\",\"Temperature (K)\"\n",
      "100,13.788899092462412,197.94450691316106\n",
      "200,26.109636365885002,125.14605931422169\n",
      "300,24.122440092287718,367.2174533359751\n",
      "400,15.145827562754254,687.6510731488905\n",
      "500,31.574085510569407,358.818290171944\n",
      "600,18.58742232375806,406.1882053832439\n",
      "700,19.241000440004584,202.85584122717933\n",
      "800,21.924753107560864,217.6676681204013\n",
      "900,13.941530818229479,201.263406526695\n",
      "1000,16.023659750899718,136.86550894747646\n",
      "1100,11.910021897358511,383.5500291305758\n",
      "1200,21.660944781546064,392.28220747121907\n",
      "1300,19.230261162966073,427.270867519712\n",
      "1400,24.032550735115695,219.9920296965338\n",
      "1500,17.2253306241009,472.6930373683523\n",
      "1600,16.314141395115364,421.0192695890868\n",
      "1700,23.917830742378623,193.20619678813514\n",
      "1800,15.405252909588937,466.218899213151\n",
      "1900,30.025727045701082,537.6477941694633\n",
      "2000,27.14277977658798,429.752619471043\n",
      "2100,14.43350300739955,279.80976154060045\n",
      "2200,20.518228489897318,141.98136428454686\n",
      "2300,13.399561268455003,222.63321254587134\n",
      "2400,14.60251627123034,149.60833012327979\n",
      "2500,14.305832976500833,131.61700475408725\n"
     ]
    }
   ],
   "source": [
    "print('Equilibrating...')\n",
    "\n",
    "simulation.reporters.append(app.StateDataReporter(stdout, 100, step=True, \n",
    "    potentialEnergy=True, temperature=True, separator=','))\n",
    "simulation.context.setVelocitiesToTemperature(150.0*unit.kelvin)\n",
    "simulation.step(2500)"
   ]
  },
  {
   "cell_type": "markdown",
   "metadata": {},
   "source": [
    "## Production\n",
    "\n",
    "Now we run a long MD simulation with parameters that are identical to the equilibration phase (other than simulation length, of course!).  We will also save a trajectory file (i.e., corodinats vs. time) of this simulation that we can analyze afterward using MDTraj (or other trajectory analysis tools)."
   ]
  },
  {
   "cell_type": "code",
   "execution_count": 5,
   "metadata": {},
   "outputs": [
    {
     "name": "stdout",
     "output_type": "stream",
     "text": [
      "Running Production...\n",
      "#\"Step\",\"Time (ps)\",\"Potential Energy (kJ/mole)\",\"Temperature (K)\",\"Speed (ns/day)\"\n",
      "25000,50.00000000001514,28.192604140778357,693.9456615986428,0\n",
      "50000,99.99999999994834,33.51061788361109,448.83142287435004,356\n",
      "75000,149.99999999998812,18.574409397132566,245.13506287655932,357\n",
      "100000,200.00000000022686,26.38754745346808,182.16558839139307,361\n",
      "125000,250.0000000004656,17.128476829766107,346.4429486812472,359\n",
      "150000,300.00000000070435,26.73613724186292,339.20427975161226,362\n",
      "175000,350.0000000009431,14.614364588620429,219.76201576703926,358\n",
      "200000,400.00000000118183,30.591308014520962,484.113518556976,354\n",
      "225000,450.0000000014206,24.676050098844485,223.8522828349982,353\n",
      "250000,500.0000000016593,28.232542661985658,259.7295624165671,352\n",
      "275000,550.000000000818,25.775302588627845,249.75588241347938,351\n",
      "300000,599.9999999996356,33.94728690321568,198.50021486113164,350\n",
      "325000,649.9999999984533,27.692031671881264,239.1193787971309,350\n",
      "350000,699.999999997271,18.85036497538181,565.3134411881975,350\n",
      "375000,749.9999999960886,16.626611451049033,441.46724120747973,350\n",
      "400000,799.9999999949063,12.866242040770416,364.77825691000413,350\n",
      "425000,849.9999999937239,25.509590022259847,410.67601063239675,350\n",
      "450000,899.9999999925416,35.55559908904785,172.10170779445204,349\n",
      "475000,949.9999999913592,16.83550456622858,656.8560843762483,349\n",
      "500000,999.9999999901769,12.323288612742441,488.94646315984176,349\n",
      "Done!\n"
     ]
    }
   ],
   "source": [
    "print('Running Production...')\n",
    "\n",
    "simulation.reporters.clear()\n",
    "# output basic simulation information below every 25000 steps/50 ps\n",
    "simulation.reporters.append(app.StateDataReporter(stdout, 25000, \n",
    "    step=True, time=True, potentialEnergy=True, temperature=True, \n",
    "    speed=True, separator=','))\n",
    "# write out a trajectory (i.e., coordinates vs. time) to a DCD\n",
    "# file every 50 steps/0.10 ps\n",
    "simulation.reporters.append(app.DCDReporter('ethane_sim.dcd', 50))\n",
    "\n",
    "# run the simulation for 5x10^5 steps/1 ns\n",
    "simulation.step(500000)\n",
    "print('Done!')"
   ]
  },
  {
   "cell_type": "code",
   "execution_count": null,
   "metadata": {
    "collapsed": true
   },
   "outputs": [],
   "source": []
  }
 ],
 "metadata": {
  "kernelspec": {
   "display_name": "Python 3",
   "language": "python",
   "name": "python3"
  },
  "language_info": {
   "codemirror_mode": {
    "name": "ipython",
    "version": 3
   },
   "file_extension": ".py",
   "mimetype": "text/x-python",
   "name": "python",
   "nbconvert_exporter": "python",
   "pygments_lexer": "ipython3",
   "version": "3.6.1"
  }
 },
 "nbformat": 4,
 "nbformat_minor": 2
}
