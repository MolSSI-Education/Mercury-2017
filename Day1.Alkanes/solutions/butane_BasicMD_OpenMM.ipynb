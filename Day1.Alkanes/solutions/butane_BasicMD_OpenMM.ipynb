{
 "cells": [
  {
   "cell_type": "code",
   "execution_count": 1,
   "metadata": {
    "collapsed": true
   },
   "outputs": [],
   "source": [
    "from simtk.openmm import app\n",
    "import simtk.openmm as mm\n",
    "from simtk import unit\n",
    "from sys import stdout\n",
    "\n",
    "# what follows is from the OpenMM script builder\n",
    "# with some minor modifications..."
   ]
  },
  {
   "cell_type": "markdown",
   "metadata": {},
   "source": [
    "## Simulation setup"
   ]
  },
  {
   "cell_type": "code",
   "execution_count": 2,
   "metadata": {
    "collapsed": true
   },
   "outputs": [],
   "source": [
    "# read in a starting structure for ethane and the\n",
    "# corresponding force field file\n",
    "pdb = app.PDBFile('butane.pdb')\n",
    "forcefield = app.ForceField('butane.gaff2.xml')\n",
    "\n",
    "# setup system by taking topology from pdb file;\n",
    "# run gas phase simulation with 2 fs time step (using SHAKE)\n",
    "# at 323.15 K using a Langevin thermostat (integrator) with\n",
    "# coupling constant of 5.0 ps^-1\n",
    "system = forcefield.createSystem(pdb.topology, nonbondedMethod=app.NoCutoff, \n",
    "                                 constraints=app.HBonds)\n",
    "integrator = mm.LangevinIntegrator(450*unit.kelvin, 5.0/unit.picoseconds, \n",
    "                                   2.0*unit.femtoseconds)\n",
    "integrator.setConstraintTolerance(0.00001)\n",
    "\n",
    "platform = mm.Platform.getPlatformByName('CPU')\n",
    "simulation = app.Simulation(pdb.topology, system, integrator, platform)\n",
    "simulation.context.setPositions(pdb.positions)"
   ]
  },
  {
   "cell_type": "markdown",
   "metadata": {},
   "source": [
    "## Energy minimization\n",
    "\n",
    "This reduces the potential energy of the system before beginning dynamics. This eliminates \"bad\" (i.e., overly close) contacts and generally leads to more stable simulation behavior."
   ]
  },
  {
   "cell_type": "code",
   "execution_count": 3,
   "metadata": {},
   "outputs": [
    {
     "name": "stdout",
     "output_type": "stream",
     "text": [
      "Minimizing...\n",
      "Potential energy before minimization is 5.7975281000609264 kJ/mol\n",
      "Potential energy after minimization is 5.295941238695407 kJ/mol\n"
     ]
    }
   ],
   "source": [
    "print('Minimizing...')\n",
    "\n",
    "st = simulation.context.getState(getPositions=True,getEnergy=True)\n",
    "print(\"Potential energy before minimization is %s\" % st.getPotentialEnergy())\n",
    "\n",
    "simulation.minimizeEnergy(maxIterations=100)\n",
    "\n",
    "st = simulation.context.getState(getPositions=True,getEnergy=True)\n",
    "print(\"Potential energy after minimization is %s\" % st.getPotentialEnergy())"
   ]
  },
  {
   "cell_type": "markdown",
   "metadata": {},
   "source": [
    "## Equilibration\n",
    "\n",
    "We will run a (very) short equilibration simulation to bring the molecule up to our desired temperature.  If this were a periodic system, we would also aim to bring the density/volume to equilibrium at the desired pressure."
   ]
  },
  {
   "cell_type": "code",
   "execution_count": 4,
   "metadata": {},
   "outputs": [
    {
     "name": "stdout",
     "output_type": "stream",
     "text": [
      "Equilibrating...\n",
      "#\"Step\",\"Potential Energy (kJ/mole)\",\"Temperature (K)\"\n",
      "100,76.48697370862196,257.8674404566612\n",
      "200,68.01400503330059,310.98573295230767\n",
      "300,60.07554302075222,299.9728840043958\n",
      "400,49.02698368047763,353.3030517580511\n",
      "500,56.85569491551386,364.244374324878\n",
      "600,69.98425498249378,283.30463160182677\n",
      "700,70.02549687477728,419.07328816451854\n",
      "800,63.365230510123546,344.0750100279498\n",
      "900,68.37077991457008,468.56015922947563\n",
      "1000,43.995964155690416,368.43707969157913\n",
      "1100,47.76317988525799,430.03222362590185\n",
      "1200,73.07070112409667,346.15546638576456\n",
      "1300,71.54611549707965,463.09303167107873\n",
      "1400,57.79740914492643,282.50574253258645\n",
      "1500,57.91538846018957,411.798846685056\n",
      "1600,45.19514746685826,255.45948858838491\n",
      "1700,63.07222550218059,566.5957843203486\n",
      "1800,69.92606454290157,372.49612685396124\n",
      "1900,76.88062963583643,459.9985473713956\n",
      "2000,51.40867606103891,316.77223861389865\n",
      "2100,66.78986357306847,379.3649831296764\n",
      "2200,45.22825122285225,380.2872773131634\n",
      "2300,64.35758857048907,208.52469076126948\n",
      "2400,62.78292318818519,576.1736999960366\n",
      "2500,56.30349780066834,563.0629537545638\n",
      "2600,56.92388744365442,387.5182132281248\n",
      "2700,85.03196069967863,332.27345484157604\n",
      "2800,53.88351542404387,402.3903812143485\n",
      "2900,74.35458779064663,346.09099905537715\n",
      "3000,76.35352707688746,285.24159196962614\n",
      "3100,56.74730744801873,555.5638382812728\n",
      "3200,51.49856357628744,324.6011656616602\n",
      "3300,52.4548089494456,435.25726089314446\n",
      "3400,51.47475118323048,311.61270622743046\n",
      "3500,60.12445834479256,326.70459617699424\n",
      "3600,51.50115581774873,389.117791272785\n",
      "3700,60.48300154335923,361.72687329462906\n",
      "3800,50.33610211362782,498.1340110655345\n",
      "3900,90.06691270260883,321.108180399343\n",
      "4000,73.9545205231334,492.10102085894965\n",
      "4100,76.0055172262523,419.20241601712445\n",
      "4200,60.181093327723566,339.8625761907253\n",
      "4300,58.97409901630195,433.5630226560662\n",
      "4400,75.24594299284985,322.70391423135646\n",
      "4500,74.8218168754351,299.0996374572043\n",
      "4600,90.01722848634643,285.6904287350645\n",
      "4700,75.0322937815326,265.1558628802992\n",
      "4800,75.32882335030843,470.1853210930245\n",
      "4900,45.583887910548015,258.47914351292627\n",
      "5000,52.61137826417237,255.81189548616496\n"
     ]
    }
   ],
   "source": [
    "print('Equilibrating...')\n",
    "\n",
    "simulation.reporters.append(app.StateDataReporter(stdout, 100, step=True, \n",
    "    potentialEnergy=True, temperature=True, separator=','))\n",
    "simulation.context.setVelocitiesToTemperature(150.0*unit.kelvin)\n",
    "simulation.step(5000)"
   ]
  },
  {
   "cell_type": "markdown",
   "metadata": {},
   "source": [
    "## Production\n",
    "\n",
    "Now we run a long MD simulation with parameters that are identical to the equilibration phase (other than simulation length, of course!).  We will also save a trajectory file (i.e., corodinats vs. time) of this simulation that we can analyze afterward using MDTraj (or other trajectory analysis tools)."
   ]
  },
  {
   "cell_type": "code",
   "execution_count": 5,
   "metadata": {},
   "outputs": [
    {
     "name": "stdout",
     "output_type": "stream",
     "text": [
      "Running Production...\n",
      "#\"Step\",\"Time (ps)\",\"Potential Energy (kJ/mole)\",\"Temperature (K)\",\"Speed (ns/day)\"\n",
      "25000,50.00000000001514,56.715941235124205,472.01649359812876,0\n",
      "50000,99.99999999994834,43.34250561027865,469.1104107147512,348\n",
      "75000,149.99999999998812,63.56153753978836,690.9244489604131,346\n",
      "100000,200.00000000022686,60.64166836711938,317.1727229788162,347\n",
      "125000,250.0000000004656,63.860653000967744,429.05673442852503,346\n",
      "150000,300.00000000070435,71.01029899257655,442.6609860004124,343\n",
      "175000,350.0000000009431,68.70151424560473,505.3927553455099,340\n",
      "200000,400.00000000118183,54.252140178429016,248.89510931980823,338\n",
      "225000,450.0000000014206,53.47342599580898,378.8583601708541,335\n",
      "250000,500.0000000016593,78.19951242781391,508.6064868225797,334\n",
      "275000,550.000000000818,57.497256713660704,372.9348357246201,332\n",
      "300000,599.9999999996356,63.7210387097415,446.9488040538295,331\n",
      "325000,649.9999999984533,62.4515695369746,529.5549432003434,330\n",
      "350000,699.999999997271,71.91674289882398,523.8942520238297,329\n",
      "375000,749.9999999960886,55.278442728737794,471.2022959826112,329\n",
      "400000,799.9999999949063,71.38221943200058,399.41263677032447,328\n",
      "425000,849.9999999937239,46.515175051488846,456.63009032427203,327\n",
      "450000,899.9999999925416,77.70386290356367,481.558680623923,326\n",
      "475000,949.9999999913592,47.972200156085535,383.4468915806222,326\n",
      "500000,999.9999999901769,69.33155267870829,554.7092313786449,326\n",
      "525000,1049.9999999889947,73.91359364916977,439.1469851522192,327\n",
      "550000,1099.9999999878123,45.68223320692025,494.7995667079365,327\n",
      "575000,1149.99999998663,53.917866981962476,569.4757379427715,327\n",
      "600000,1199.9999999854476,61.180014258020044,674.418565772023,327\n",
      "625000,1249.9999999842653,50.8602308156953,651.7245494365684,328\n",
      "650000,1299.999999983083,72.72860118422253,378.70506955889266,328\n",
      "675000,1349.9999999819006,76.3250471217225,313.8891745488322,328\n",
      "700000,1399.9999999807183,55.95433039654421,602.0368426593631,328\n",
      "725000,1449.999999979536,51.37239829249868,472.23798795994594,328\n",
      "750000,1499.9999999783536,63.029361241216584,488.49979918928733,328\n",
      "775000,1549.9999999771712,72.5888811853196,509.58675577332866,328\n",
      "800000,1599.9999999759889,51.38317727090104,442.7437672338237,328\n",
      "825000,1649.9999999748065,53.02197796940272,531.3725864371562,328\n",
      "850000,1699.9999999736242,61.469823369315826,686.2022762711846,328\n",
      "875000,1749.9999999724419,61.49447366889268,462.146680711761,328\n",
      "900000,1799.9999999712595,72.23856650058786,516.5082222116419,329\n",
      "925000,1849.9999999700772,77.45674572278047,450.7705442339971,329\n",
      "950000,1899.9999999688948,32.02748121058478,458.6596128445173,328\n",
      "975000,1949.9999999677125,69.84926661650958,332.53921102172575,328\n",
      "1000000,1999.9999999665301,55.743016993009036,280.7712094524847,327\n",
      "1025000,2049.999999965348,33.647516664368425,349.8687214900367,327\n",
      "1050000,2099.9999999641655,38.51798212675686,499.4851953934269,327\n",
      "1075000,2149.999999962983,60.97630417409832,327.691651272301,327\n",
      "1100000,2199.9999999618008,46.95193846619171,589.7290662816059,327\n",
      "1125000,2249.9999999606184,63.957295413170826,501.4694740183128,327\n",
      "1150000,2299.999999959436,34.10185713892847,340.35861384108796,327\n",
      "1175000,2349.9999999582537,75.92113093612883,776.1352757293873,327\n",
      "1200000,2399.9999999570714,44.66023110604192,402.6644491828821,327\n",
      "1225000,2449.999999955889,58.778995216885434,524.4219518543473,327\n",
      "1250000,2499.9999999547067,79.96854454176422,333.0987165086612,327\n",
      "Done!\n"
     ]
    }
   ],
   "source": [
    "print('Running Production...')\n",
    "\n",
    "simulation.reporters.clear()\n",
    "# output basic simulation information below every 25000 steps/50 ps\n",
    "simulation.reporters.append(app.StateDataReporter(stdout, 25000, \n",
    "    step=True, time=True, potentialEnergy=True, temperature=True, \n",
    "    speed=True, separator=','))\n",
    "# write out a trajectory (i.e., coordinates vs. time) to a DCD\n",
    "# file every 50 steps/0.10 ps\n",
    "simulation.reporters.append(app.DCDReporter('butane_sim.dcd', 50))\n",
    "\n",
    "# run the simulation for 1.25x10^6 steps/2.5 ns\n",
    "simulation.step(1250000)\n",
    "print('Done!')"
   ]
  },
  {
   "cell_type": "code",
   "execution_count": null,
   "metadata": {
    "collapsed": true
   },
   "outputs": [],
   "source": []
  }
 ],
 "metadata": {
  "kernelspec": {
   "display_name": "Python 3",
   "language": "python",
   "name": "python3"
  },
  "language_info": {
   "codemirror_mode": {
    "name": "ipython",
    "version": 3
   },
   "file_extension": ".py",
   "mimetype": "text/x-python",
   "name": "python",
   "nbconvert_exporter": "python",
   "pygments_lexer": "ipython3",
   "version": "3.6.1"
  }
 },
 "nbformat": 4,
 "nbformat_minor": 2
}
