{
 "cells": [
  {
   "cell_type": "code",
   "execution_count": 2,
   "metadata": {
    "collapsed": true
   },
   "outputs": [],
   "source": [
    "from simtk.openmm import app\n",
    "import simtk.openmm as mm\n",
    "from simtk import unit\n",
    "from sys import stdout"
   ]
  },
  {
   "cell_type": "markdown",
   "metadata": {},
   "source": [
    "## Simulation setup"
   ]
  },
  {
   "cell_type": "code",
   "execution_count": 3,
   "metadata": {
    "collapsed": true
   },
   "outputs": [],
   "source": [
    "prmtop = app.AmberPrmtopFile('BPTI_gas.prmtop')\n",
    "inpcrd = app.AmberInpcrdFile('BPTI_gas.inpcrd')\n",
    "\n",
    "system = prmtop.createSystem(nonbondedMethod=app.NoCutoff, constraints=None)\n",
    "integrator = mm.LangevinIntegrator(298.15*unit.kelvin, 1.0/unit.picoseconds, \n",
    "    1.0*unit.femtoseconds)\n",
    "\n",
    "platform = mm.Platform.getPlatformByName('CPU')\n",
    "simulation = app.Simulation(prmtop.topology, system, integrator, platform)\n",
    "simulation.context.setPositions(inpcrd.positions)"
   ]
  },
  {
   "cell_type": "markdown",
   "metadata": {},
   "source": [
    "## Energy minimization"
   ]
  },
  {
   "cell_type": "code",
   "execution_count": 4,
   "metadata": {},
   "outputs": [
    {
     "name": "stdout",
     "output_type": "stream",
     "text": [
      "Potential energy before minimization is -2108.982628950387 kJ/mol\n",
      "Minimizing...\n",
      "Potential energy after minimization is -5072.5430810602475 kJ/mol\n"
     ]
    }
   ],
   "source": [
    "st = simulation.context.getState(getPositions=True,getEnergy=True)\n",
    "print(\"Potential energy before minimization is %s\" % st.getPotentialEnergy())\n",
    "\n",
    "print('Minimizing...')\n",
    "simulation.minimizeEnergy(maxIterations=100)\n",
    "\n",
    "st = simulation.context.getState(getPositions=True,getEnergy=True)\n",
    "print(\"Potential energy after minimization is %s\" % st.getPotentialEnergy())"
   ]
  },
  {
   "cell_type": "markdown",
   "metadata": {},
   "source": [
    "## Equilibration (brief!)"
   ]
  },
  {
   "cell_type": "code",
   "execution_count": 3,
   "metadata": {},
   "outputs": [
    {
     "name": "stdout",
     "output_type": "stream",
     "text": [
      "Equilibrating...\n"
     ]
    }
   ],
   "source": [
    "simulation.context.setVelocitiesToTemperature(298.15*unit.kelvin)\n",
    "print('Equilibrating...')\n",
    "simulation.step(1000)\n",
    "print('Done!')"
   ]
  },
  {
   "cell_type": "markdown",
   "metadata": {},
   "source": [
    "## Production"
   ]
  },
  {
   "cell_type": "code",
   "execution_count": 4,
   "metadata": {},
   "outputs": [
    {
     "name": "stdout",
     "output_type": "stream",
     "text": [
      "Running Production...\n",
      "#\"Step\"\t\"Time (ps)\"\t\"Potential Energy (kJ/mole)\"\t\"Temperature (K)\"\t\"Speed (ns/day)\"\n",
      "1250\t1.2499999999999731\t-3105.631888955444\t269.30286296858617\t0\n",
      "1500\t1.4999999999999456\t-3129.4944089510127\t285.1700845506675\t5.23\n",
      "1750\t1.749999999999918\t-3252.459043730104\t279.4265338392294\t5.14\n",
      "2000\t1.9999999999998905\t-3153.8408622071292\t281.5325712192819\t5.2\n",
      "2250\t2.249999999999863\t-3007.2937828939957\t284.99183385286716\t5.2\n",
      "2500\t2.4999999999998357\t-3052.353317712761\t303.20776391179845\t5.21\n",
      "2750\t2.749999999999808\t-2895.674894649277\t292.2414362351824\t5.21\n",
      "3000\t2.9999999999997806\t-2975.8202455607516\t312.38762810460014\t5.21\n",
      "3250\t3.249999999999753\t-2916.8055406813164\t308.6728350315733\t5.18\n",
      "3500\t3.4999999999997256\t-2780.1994362252753\t304.5095286366434\t5.19\n",
      "3750\t3.749999999999698\t-2845.204098359449\t306.75961821818265\t5.19\n",
      "4000\t3.9999999999996705\t-2958.01518109268\t311.2318949088547\t5.21\n",
      "4250\t4.249999999999754\t-3114.489981353525\t319.8674329677283\t5.19\n",
      "4500\t4.4999999999998375\t-3144.664327296974\t300.32224219431\t5.19\n",
      "4750\t4.749999999999921\t-3043.881553459936\t292.29183008455595\t5.11\n",
      "5000\t5.000000000000004\t-3036.9103594547414\t287.2444128504568\t5.04\n",
      "5250\t5.250000000000088\t-3072.2229741281944\t283.14644077721914\t4.96\n",
      "5500\t5.500000000000171\t-3190.3068539526403\t282.77099917616954\t4.93\n",
      "5750\t5.750000000000255\t-3028.864830825887\t278.651124174655\t4.92\n",
      "6000\t6.000000000000338\t-3194.681767683369\t289.1563840830306\t4.92\n",
      "6250\t6.250000000000422\t-3217.998986791543\t289.9746187662996\t4.93\n",
      "6500\t6.500000000000505\t-3116.8752071823346\t287.6842370922616\t4.91\n",
      "6750\t6.750000000000589\t-3213.5135156785273\t296.2969050525652\t4.9\n",
      "7000\t7.000000000000672\t-3242.722033528473\t296.04272589936164\t4.89\n",
      "7250\t7.250000000000756\t-3098.871555036001\t289.10647999853825\t4.86\n",
      "7500\t7.500000000000839\t-3058.773167011994\t290.23095080175887\t4.82\n",
      "7750\t7.750000000000923\t-3278.8507271188455\t297.6694736212413\t4.8\n",
      "8000\t8.000000000001005\t-3228.044775227323\t293.43014294166346\t4.8\n",
      "8250\t8.250000000000867\t-3204.9324905364447\t290.19590731366054\t4.8\n",
      "8500\t8.500000000000728\t-3109.822355022239\t291.09274814830377\t4.8\n",
      "8750\t8.75000000000059\t-3327.0245550050067\t303.43850005037257\t4.81\n",
      "9000\t9.000000000000451\t-3081.7443942012505\t291.7181877760669\t4.82\n",
      "9250\t9.250000000000313\t-3068.3230054693377\t295.38720225362516\t4.82\n",
      "9500\t9.500000000000174\t-3165.812877919214\t304.1890798145121\t4.83\n",
      "9750\t9.750000000000036\t-3214.256770143267\t298.2858702994523\t4.83\n",
      "10000\t9.999999999999897\t-3083.3348302992363\t299.3324969115707\t4.83\n",
      "Done!\n"
     ]
    }
   ],
   "source": [
    "simulation.reporters.append(app.DCDReporter('BPTI_sim.dcd', 1))\n",
    "simulation.reporters.append(app.StateDataReporter(stdout, 250, step=True, time=True, \n",
    "    potentialEnergy=True, temperature=True, speed=True, separator='\\t'))\n",
    "\n",
    "print('Running Production...')\n",
    "simulation.step(9000)\n",
    "print('Done!')"
   ]
  },
  {
   "cell_type": "code",
   "execution_count": null,
   "metadata": {
    "collapsed": true
   },
   "outputs": [],
   "source": []
  }
 ],
 "metadata": {
  "kernelspec": {
   "display_name": "Python 3",
   "language": "python",
   "name": "python3"
  },
  "language_info": {
   "codemirror_mode": {
    "name": "ipython",
    "version": 3
   },
   "file_extension": ".py",
   "mimetype": "text/x-python",
   "name": "python",
   "nbconvert_exporter": "python",
   "pygments_lexer": "ipython3",
   "version": "3.6.1"
  }
 },
 "nbformat": 4,
 "nbformat_minor": 2
}
